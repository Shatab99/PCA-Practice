{
 "cells": [
  {
   "cell_type": "markdown",
   "metadata": {},
   "source": [
    "Load Dataset"
   ]
  },
  {
   "cell_type": "code",
   "execution_count": null,
   "metadata": {},
   "outputs": [],
   "source": [
    "import pandas as pd\n",
    "import numpy as np\n",
    "from sklearn.preprocessing import LabelEncoder, StandardScaler\n",
    "from sklearn.model_selection import train_test_split\n",
    "from sklearn.svm import SVC\n",
    "from sklearn.linear_model import LogisticRegression\n",
    "from sklearn.ensemble import RandomForestClassifier\n",
    "from sklearn.metrics import accuracy_score\n",
    "from sklearn.decomposition import PCA\n",
    "from scipy.stats import zscore\n",
    "\n",
    "# Step 1: Load the dataset\n",
    "df = pd.read_csv('diabetes_dataset.csv')  # Make sure the dataset file is in the same folder or specify the full path\n",
    "\n",
    "# Step 2: Remove outliers using Z-score\n",
    "# Calculate the Z-scores and filter out rows where any Z-score > 3 or < -3 for numerical columns\n",
    "numerical_cols = df.select_dtypes(include=[np.number]).columns\n",
    "z_scores = np.abs(zscore(df[numerical_cols]))\n",
    "df = df[(z_scores < 3).all(axis=1)]  # Keep rows without outliers\n",
    "\n",
    "# Step 3: Encode categorical columns (text data) to numerical\n",
    "# Using LabelEncoder for binary columns and get_dummies for multi-category columns\n",
    "for column in df.select_dtypes(include='object').columns:\n",
    "    if df[column].nunique() == 2:\n",
    "        df[column] = LabelEncoder().fit_transform(df[column])\n",
    "    else:\n",
    "        df = pd.get_dummies(df, columns=[column], drop_first=True)  # Create dummy variables for categorical columns\n",
    "\n",
    "# Step 4: Separate features (X) and target label (y), then scale the features\n",
    "X = df.drop(columns='target')  # Assume 'target' is the column we want to predict\n",
    "y = df['target']\n",
    "X_scaled = StandardScaler().fit_transform(X)  # Standardize the feature columns\n",
    "\n",
    "# Step 5: Split data into training and testing sets\n",
    "X_train, X_test, y_train, y_test = train_test_split(X_scaled, y, test_size=0.2, random_state=42)\n",
    "\n",
    "# Step 6: Initialize models and train each one, checking accuracy\n",
    "models = {\n",
    "    'SVM': SVC(),\n",
    "    'Logistic Regression': LogisticRegression(),\n",
    "    'Random Forest': RandomForestClassifier()\n",
    "}\n",
    "\n",
    "print(\"Model Accuracies (before PCA):\")\n",
    "for model_name, model in models.items():\n",
    "    model.fit(X_train, y_train)  # Train the model\n",
    "    y_pred = model.predict(X_test)  # Predict on test data\n",
    "    accuracy = accuracy_score(y_test, y_pred)  # Calculate accuracy\n",
    "    print(f\"{model_name}: {accuracy:.2f}\")\n",
    "\n",
    "# Step 7: Apply PCA for dimensionality reduction\n",
    "# Use PCA to reduce the features while retaining 95% of the explained variance\n",
    "pca = PCA(n_components=0.95)\n",
    "X_pca = pca.fit_transform(X_scaled)\n",
    "\n",
    "# Split the PCA-transformed data into training and testing sets\n",
    "X_train_pca, X_test_pca, y_train_pca, y_test_pca = train_test_split(X_pca, y, test_size=0.2, random_state=42)\n",
    "\n",
    "print(\"\\nModel Accuracies (after PCA):\")\n",
    "for model_name, model in models.items():\n",
    "    model.fit(X_train_pca, y_train_pca)  # Train the model on PCA-transformed data\n",
    "    y_pred_pca = model.predict(X_test_pca)  # Predict on test data\n",
    "    accuracy_pca = accuracy_score(y_test_pca, y_pred_pca)  # Calculate accuracy\n",
    "    print(f\"{model_name} with PCA: {accuracy_pca:.2f}\")"
   ]
  },
  {
   "cell_type": "markdown",
   "metadata": {},
   "source": [
    "Remove Outliers Using Z-score\n"
   ]
  }
 ],
 "metadata": {
  "kernelspec": {
   "display_name": "base",
   "language": "python",
   "name": "python3"
  },
  "language_info": {
   "codemirror_mode": {
    "name": "ipython",
    "version": 3
   },
   "file_extension": ".py",
   "mimetype": "text/x-python",
   "name": "python",
   "nbconvert_exporter": "python",
   "pygments_lexer": "ipython3",
   "version": "3.12.4"
  }
 },
 "nbformat": 4,
 "nbformat_minor": 2
}
